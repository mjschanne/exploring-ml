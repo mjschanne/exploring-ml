{
 "cells": [
  {
   "cell_type": "markdown",
   "id": "2806bc0b-3faa-439f-adc3-ef07176e989d",
   "metadata": {},
   "source": [
    "# Convolutional Neural Networks for MNIST Data Using PyTorch\n",
    "\n",
    "The \"Hello World\" of image classification is a convolutional neural network (CNN) applied to the MNIST digits dataset. A good way to see where this article is headed is to take a look at the screenshot of a demo program in **Figure 1**. The demo begins by loading a 1,000-item subset of the 60,000-item MNIST training data. Each MNIST image is a crude 28 x 28 pixel grayscale handwritten digit from \"0\" to \"9.\"\n",
    "\n",
    "Next, the demo program creates a CNN network that has two convolutional layers and three linear layers. The demo program trains the network for 50 epochs. An epoch is one pass through all training items. The loss/error slowly decreases from 230.0792 to 21.4261 which indicates that training is working.\n",
    "\n",
    "![Figure 1: CNN for MNIST Data Using PyTorch Demo Run](https://visualstudiomagazine.com/Articles/2022/02/15/~/media/ECG/visualstudiomagazine/Images/2022/02/fig_1_mnist_cnn_demo_run.ashx)\n",
    "__**Figure 1:** CNN for MNIST Data Using PyTorch Demo Run__\n",
    "\n",
    "After training, the demo program computes the classification accuracy of the model on the training data (96.60 percent = 966 out of 1,000 correct) and on a 100-item test dataset (96.00 percent = 96 out of 100 correct). Because the model accuracy on the test data is close to the accuracy on the training data, it appears that the model is not overfitted.\n",
    "\n",
    "Next, the trained model is used to predict the class label/digit for a new previously unseen dummy image. The dummy image is made of a horizontal bar, a vertical bar and a diagonal bar. The model predicts that the image is a \"four,\" which is what most humans would predict. The demo concludes by saving the trained model to file so that it can be used later without having to train it from scratch.\n",
    "\n",
    "This article assumes you have a basic familiarity with Python and the PyTorch neural network library. If you're new to PyTorch, you can get up to speed by reviewing the article **[\"Multi-Class Classification Using PyTorch: Defining a Network.\"](https://visualstudiomagazine.com/articles/2020/12/15/pytorch-network.aspx)**\n",
    "\n",
    "To run the demo program, you must have Python and PyTorch installed on your machine. The demo programs were developed on Windows 10 using the Anaconda 2020.02 64-bit distribution (which contains Python 3.7.6) and PyTorch version 1.10.0 for CPU installed via pip. You can find detailed step-by-step installation instructions for this configuration in my blog **[post](https://jamesmccaffrey.wordpress.com/2020/05/25/installing-pytorch-1-5-for-cpu-on-windows-10-with-anaconda-2020-02-for-python-3-7/).**\n",
    "\n",
    "The complete demo program source code is presented in this article. The source code is also available in the accompanying file download."
   ]
  },
  {
   "cell_type": "markdown",
   "id": "0c96ec96-acb8-4bae-8c4c-3d20cbc644bf",
   "metadata": {},
   "source": [
    "## The MNIST Data\n",
    "\n",
    "The full MNIST (Modified National Institute of Standards and Technology) dataset has 60,000 training images and 10,000 test images. Each image is 28 x 28 pixels (784 values) and each pixel is a grayscale value between 0 and 255. **Figure 2** shows eight MNIST images.\n",
    "\n",
    "![Figure 2: Example MNIST Images](https://visualstudiomagazine.com/Articles/2022/02/15/~/media/ECG/visualstudiomagazine/Images/2022/02/fig_2_mnist_example_images.ashx)\n",
    "__**Figure 2:** Example MNIST Images__\n",
    "\n",
    "Most neural network libraries, including PyTorch, scikit and Keras, have built-in MNIST datasets. However, working with pre-built MNIST datasets has two big problems. First, a pre-built dataset is a black box that hides many details that are important if you ever want to work with other image data. Second, the pre-built datasets consist of all 60,000 training and 10,000 test images and those datasets are very difficult to work with because they're so large.\n",
    "\n",
    "The demo program assumes the existence of a tab-delimited text file of 1,000 training images where each image is stored on one line with the 784 pixel values first and the class \"0\" to \"9\" label last. The source MNIST data is stored in a proprietary binary format and converting the binary source files to text files is not trivial. An MNIST converter program is presented and explained in the Visual Studio Magazine article **[\"Preparing MNIST Image Data Text Files.\"](https://visualstudiomagazine.com/articles/2022/02/01/preparing-mnist-image-data-text-files.aspx)**"
   ]
  },
  {
   "cell_type": "markdown",
   "id": "7a39cc8f-6b13-4cb9-83e6-a65fea9e707d",
   "metadata": {},
   "source": [
    "## The Demo Program\n",
    "\n",
    "The complete MNIST CNN demo program, with a few minor edits to save space, is presented in **Listing 1**. I prefer to indent my Python programs with two spaces rather than the more common four spaces. The backslash character is used for line continuation in Python.\n",
    "\n",
    "**Listing 1:** MNIST CNN Demo Program"
   ]
  },
  {
   "cell_type": "code",
   "execution_count": 4,
   "id": "3bf2d737-3008-44ba-9932-bd86465f85d2",
   "metadata": {},
   "outputs": [
    {
     "name": "stdout",
     "output_type": "stream",
     "text": [
      "\n",
      "Begin MNIST with CNN demo \n",
      "\n",
      "Creating 1000-item train Dataset from text file \n",
      "\n",
      "Creating CNN network with 2 conv and 3 linear \n",
      "\n",
      "bat_size =  10 \n",
      "loss = CrossEntropyLoss()\n",
      "optimizer = SGD\n",
      "max_epochs =  50 \n",
      "lrn_rate = 0.005 \n",
      "\n",
      "Starting training\n",
      "epoch =    0   loss = 230.0792\n",
      "epoch =    5   loss = 227.4109\n",
      "epoch =   10   loss = 201.8226\n",
      "epoch =   15   loss = 86.4408\n",
      "epoch =   20   loss = 62.5790\n",
      "epoch =   25   loss = 49.5576\n",
      "epoch =   30   loss = 40.5146\n",
      "epoch =   35   loss = 31.5626\n",
      "epoch =   40   loss = 28.5285\n",
      "epoch =   45   loss = 21.5814\n",
      "Done \n",
      "\n",
      "Computing model accuracy\n",
      "Accuracy on training data = 0.9650\n",
      "Accuracy on test data = 0.9600\n",
      "\n",
      "Making prediction for fake image: \n"
     ]
    },
    {
     "data": {
      "image/png": "[encoded data removed]",
      "text/plain": [
       "<Figure size 432x288 with 1 Axes>"
      ]
     },
     "metadata": {
      "needs_background": "light"
     },
     "output_type": "display_data"
    },
    {
     "name": "stdout",
     "output_type": "stream",
     "text": [
      "\n",
      "Predicted class is 'four'\n",
      "\n",
      "Saving trained model state\n",
      "\n",
      "End MNIST CNN demo \n"
     ]
    }
   ],
   "source": [
    "# mnist_cnn.py\n",
    "# PyTorch 1.10.0-CPU Anaconda3-2020.02  Python 3.7.6\n",
    "# Windows 10 \n",
    "\n",
    "# reads MNIST data from text file rather than using\n",
    "# built-in black box Dataset from torchvision\n",
    "\n",
    "import numpy as np\n",
    "import matplotlib.pyplot as plt\n",
    "import torch as T\n",
    "\n",
    "device = T.device('cpu')\n",
    "\n",
    "# -----------------------------------------------------------\n",
    "\n",
    "class MNIST_Dataset(T.utils.data.Dataset):\n",
    "  # 784 tab-delim pixel values (0-255) then label (0-9)\n",
    "  def __init__(self, src_file):\n",
    "    all_xy = np.loadtxt(src_file, usecols=range(785),\n",
    "      delimiter=\"\\t\", comments=\"#\", dtype=np.float32)\n",
    "\n",
    "    tmp_x = all_xy[:, 0:784]  # all rows, cols [0,783]\n",
    "    tmp_x /= 255\n",
    "    tmp_x = tmp_x.reshape(-1, 1, 28, 28)  # bs, chnls, 28x28\n",
    "    tmp_y = all_xy[:, 784]    # 1-D required\n",
    "\n",
    "    self.x_data = \\\n",
    "      T.tensor(tmp_x, dtype=T.float32).to(device)\n",
    "    self.y_data = \\\n",
    "      T.tensor(tmp_y, dtype=T.int64).to(device) \n",
    "\n",
    "  def __len__(self):\n",
    "    return len(self.x_data)\n",
    "\n",
    "  def __getitem__(self, idx):\n",
    "    lbl = self.y_data[idx]  # no use labels\n",
    "    pixels = self.x_data[idx] \n",
    "    return (pixels, lbl)\n",
    "\n",
    "# -----------------------------------------------------------\n",
    "\n",
    "class Net(T.nn.Module):\n",
    "  def __init__(self):\n",
    "    super(Net, self).__init__()  # pre Python 3.3 syntax\n",
    "\n",
    "    self.conv1 = T.nn.Conv2d(1, 32, 5)  # chnl-in, out, krnl\n",
    "    self.conv2 = T.nn.Conv2d(32, 64, 5)\n",
    "    self.fc1 = T.nn.Linear(1024, 512)   # [64*4*4, x]\n",
    "    self.fc2 = T.nn.Linear(512, 256)\n",
    "    self.fc3 = T.nn.Linear(256, 10)     # 10 classes\n",
    "    self.pool1 = T.nn.MaxPool2d(2, stride=2) # kernel, stride\n",
    "    self.pool2 = T.nn.MaxPool2d(2, stride=2)\n",
    "    self.drop1 = T.nn.Dropout(0.25)\n",
    "    self.drop2 = T.nn.Dropout(0.50)\n",
    "  \n",
    "  def forward(self, x):\n",
    "    # convolution phase         # x is [bs, 1, 28, 28]\n",
    "    z = T.relu(self.conv1(x))   # Size([bs, 32, 24, 24])\n",
    "    z = self.pool1(z)           # Size([bs, 32, 12, 12])\n",
    "    z = self.drop1(z)\n",
    "    z = T.relu(self.conv2(z))   # Size([bs, 64, 8, 8])\n",
    "    z = self.pool2(z)           # Size([bs, 64, 4, 4])\n",
    "   \n",
    "    # neural network phase\n",
    "    z = z.reshape(-1, 1024)     # Size([bs, 1024])\n",
    "    z = T.relu(self.fc1(z))     # Size([bs, 512])\n",
    "    z = self.drop2(z)\n",
    "    z = T.relu(self.fc2(z))     # Size([bs, 256])\n",
    "    z = self.fc3(z)             # Size([bs, 10])\n",
    "    return z\n",
    "\n",
    "def accuracy(model, ds):\n",
    "  ldr = T.utils.data.DataLoader(ds,\n",
    "    batch_size=len(ds), shuffle=False)\n",
    "  n_correct = 0\n",
    "  for data in ldr:\n",
    "    (pixels, labels) = data\n",
    "    with T.no_grad():\n",
    "      oupts = model(pixels)\n",
    "    (_, predicteds) = T.max(oupts, 1)\n",
    "    n_correct += (predicteds == labels).sum().item()\n",
    "\n",
    "  acc = (n_correct * 1.0) / len(ds)\n",
    "  return acc\n",
    "\n",
    "def main():\n",
    "  # 0. setup\n",
    "  print(\"\\nBegin MNIST with CNN demo \")\n",
    "  np.random.seed(1)\n",
    "  T.manual_seed(1)\n",
    "\n",
    "  # 1. create Dataset\n",
    "  print(\"\\nCreating 1000-item train Dataset from text file \")\n",
    "  train_file = \"mnist_train_1000.txt\"\n",
    "  train_ds = MNIST_Dataset(train_file)\n",
    "\n",
    "  bat_size = 10\n",
    "  train_ldr = T.utils.data.DataLoader(train_ds,\n",
    "    batch_size=bat_size, shuffle=True)\n",
    "\n",
    "  # 2. create network\n",
    "  print(\"\\nCreating CNN network with 2 conv and 3 linear \")\n",
    "  net = Net().to(device)\n",
    "\n",
    "  # 3. train model\n",
    "  max_epochs = 50  # 100 gives better results\n",
    "  ep_log_interval = 5\n",
    "  lrn_rate = 0.005\n",
    "  \n",
    "  loss_func = T.nn.CrossEntropyLoss()  # does log-softmax()\n",
    "  optimizer = T.optim.SGD(net.parameters(), lr=lrn_rate)\n",
    "  \n",
    "  print(\"\\nbat_size = %3d \" % bat_size)\n",
    "  print(\"loss = \" + str(loss_func))\n",
    "  print(\"optimizer = SGD\")\n",
    "  print(\"max_epochs = %3d \" % max_epochs)\n",
    "  print(\"lrn_rate = %0.3f \" % lrn_rate)\n",
    "\n",
    "  print(\"\\nStarting training\")\n",
    "  net.train()  # set mode\n",
    "  for epoch in range(0, max_epochs):\n",
    "    ep_loss = 0  # for one full epoch\n",
    "    for (batch_idx, batch) in enumerate(train_ldr):\n",
    "      (X, y) = batch  # X = pixels, y = target labels\n",
    "      optimizer.zero_grad()\n",
    "      oupt = net(X)\n",
    "      loss_val = loss_func(oupt, y)  # a tensor\n",
    "      ep_loss += loss_val.item()  # accumulate\n",
    "      loss_val.backward()  # compute grads\n",
    "      optimizer.step()     # update weights\n",
    "    if epoch % ep_log_interval == 0:\n",
    "      print(\"epoch = %4d   loss = %0.4f\" % (epoch, ep_loss))\n",
    "  print(\"Done \") \n",
    "\n",
    "  # 4. evaluate model accuracy\n",
    "  print(\"\\nComputing model accuracy\")\n",
    "  net.eval()\n",
    "  acc_train = accuracy(net, train_ds)  # all at once\n",
    "  print(\"Accuracy on training data = %0.4f\" % acc_train)\n",
    "\n",
    "  test_file = \"mnist_test_100.txt\"\n",
    "  test_ds = MNIST_Dataset(test_file)\n",
    "  net.eval()\n",
    "  acc_test = accuracy(net, test_ds)  # all at once\n",
    "  print(\"Accuracy on test data = %0.4f\" % acc_test)\n",
    "\n",
    "  # 5. make a prediction\n",
    "  print(\"\\nMaking prediction for fake image: \")\n",
    "  x = np.zeros(shape=(28,28), dtype=np.float32)\n",
    "  for row in range(5,23):\n",
    "    x[row][9] = 180  # vertical line\n",
    "  for rc in range(9,19):\n",
    "    x[rc][rc] = 250  # diagonal\n",
    "  for col in range(5,15):  \n",
    "    x[14][col] = 200  # horizontal\n",
    "  x /= 255.0\n",
    "\n",
    "  plt.tight_layout()\n",
    "  plt.imshow(x, cmap=plt.get_cmap('gray_r'))\n",
    "  plt.show()\n",
    "\n",
    "  digits = ['zero', 'one', 'two', 'three', 'four', 'five', \n",
    "    'six', 'seven', 'eight', 'nine' ]\n",
    "  x = x.reshape(1, 1, 28, 28)  # 1 image, 1 channel\n",
    "  x = T.tensor(x, dtype=T.float32).to(device)\n",
    "  with T.no_grad():\n",
    "    oupt = net(x)  # 10 logits like [[-0.12, 1.03, . . ]]\n",
    "  am = T.argmax(oupt) # 0 to 9\n",
    "  print(\"\\nPredicted class is \\'\" + digits[am] + \"\\'\")\n",
    "\n",
    "  # 6. save model\n",
    "  print(\"\\nSaving trained model state\")\n",
    "  fn = \"mnist_model.pt\"\n",
    "  T.save(net.state_dict(), fn)  \n",
    "\n",
    "  print(\"\\nEnd MNIST CNN demo \")\n",
    "\n",
    "if __name__ == \"__main__\":\n",
    "  main()\n",
    "\n"
   ]
  },
  {
   "cell_type": "markdown",
   "id": "9fa1ac38-b7fa-4f37-ac70-a88a8ffde3df",
   "metadata": {},
   "source": [
    "All the control logic is in a program-defined main() function. The program begins with some preparation statements:"
   ]
  },
  {
   "cell_type": "markdown",
   "id": "139c49e0-ee53-4e40-9ed4-b0a56dbd63d7",
   "metadata": {},
   "source": [
    "```\n",
    "import numpy as np\n",
    "import matplotlib.pyplot as plt\n",
    "import torch as T\n",
    "device = T.device('cpu')\n",
    "\n",
    "def main():\n",
    "  # 0. setup\n",
    "  print(\"Begin MNIST with CNN demo \")\n",
    "  np.random.seed(1)\n",
    "  T.manual_seed(1)\n",
    ". . .\n",
    "```"
   ]
  },
  {
   "cell_type": "markdown",
   "id": "86bae213-15ad-48a9-a505-30f57c5ed9b8",
   "metadata": {},
   "source": [
    "Setting the numpy and torch random number seeds allows reproducible results in most, but not all, situations. PyTorch program reproducibility is a tricky topic. Next, the demo program creates a program-defined training Dataset object and feeds it to a built-in DataLoader object:"
   ]
  },
  {
   "cell_type": "markdown",
   "id": "8f87e15a-0c6f-48ef-8180-0b3a77475241",
   "metadata": {},
   "source": [
    "```\n",
    "  train_file = \".\\\\Data\\\\mnist_train_1000.txt\"\n",
    "  train_ds = MNIST_Dataset(train_file)\n",
    "  bat_size = 10\n",
    "  train_ldr = T.utils.data.DataLoader(train_ds,\n",
    "    batch_size=bat_size, shuffle=True)\n",
    "```"
   ]
  },
  {
   "cell_type": "markdown",
   "id": "c0d8917f-5486-4839-838c-bcb75ef8e924",
   "metadata": {},
   "source": [
    "The batch size is a hyperparameter that must be determined by trial and error guided by experience. In general, it's a good idea to use a batch size that evenly divides the size of the training data so that all batches are the same size.\n",
    "\n",
    "Next, the demo creates the CNN network and sets up the training parameters:"
   ]
  },
  {
   "cell_type": "markdown",
   "id": "5297c42d-4539-48f7-9dba-d474e2af95fc",
   "metadata": {},
   "source": [
    "```\n",
    " net = Net().to(device)\n",
    "  max_epochs = 50  # 100 gives better results\n",
    "  ep_log_interval = 5\n",
    "  lrn_rate = 0.005\n",
    "  loss_func = T.nn.CrossEntropyLoss()  # does log-softmax()\n",
    "  optimizer = T.optim.SGD(net.parameters(), lr=lrn_rate)\n",
    "  net.train()  # set mode\n",
    "```"
   ]
  },
  {
   "cell_type": "markdown",
   "id": "c97f50f8-4531-4823-97cd-e9c55f4c0243",
   "metadata": {},
   "source": [
    "The CrossEntropyLoss() is the most common choice for multi-class classification, but MSELoss() is a viable alternative. The demo uses SGD (stochastic gradient descent) training optimization rather than the more common Adam optimization. SGD works far better for the demo CNN network architecture. Even though the default network mode is train() rather than eval(), in my opinion it's good practice to explicitly set the mode.\n",
    "\n",
    "The demo trains the CNN network using these statements:"
   ]
  },
  {
   "cell_type": "markdown",
   "id": "39675dfb-b048-4b55-b83d-af127d574977",
   "metadata": {},
   "source": [
    "```\n",
    "  for epoch in range(0, max_epochs):\n",
    "    ep_loss = 0  # for one full epoch\n",
    "    for (batch_idx, batch) in enumerate(train_ldr):\n",
    "      (X, y) = batch  # X = pixels, y = target labels\n",
    "      optimizer.zero_grad()\n",
    "      oupt = net(X)\n",
    "      loss_val = loss_func(oupt, y)  # a tensor\n",
    "      ep_loss += loss_val.item()  # accumulate\n",
    "      loss_val.backward()  # compute grads\n",
    "      optimizer.step()     # update weights\n",
    "    if epoch % ep_log_interval == 0:\n",
    "      print(\"epoch = %4d loss = %0.4f\" % (epoch, ep_loss))\n",
    "```"
   ]
  },
  {
   "cell_type": "markdown",
   "id": "f93b3776-3a8a-4e8b-aeb7-8ba16077996b",
   "metadata": {},
   "source": [
    "It's important to monitor loss/error during training to determine if training is working or not. Training failure is the norm rather than the exception when working with neural networks. The demo accumulates total loss for each epoch. Because this depends on the batch size, you might want to compute an average loss per data item.\n",
    "\n",
    "After training completes, the demo computes classification accuracy on the 1,000-item training data and the 100-item test data:"
   ]
  },
  {
   "cell_type": "markdown",
   "id": "ac69f713-8e0d-42ec-a2cd-0b1898d920a8",
   "metadata": {},
   "source": [
    "```\n",
    "  net.eval()\n",
    "  acc_train = accuracy(net, train_ds)  # all at once\n",
    "  print(\"Accuracy on training data = %0.4f\" % acc_train)\n",
    "  test_file = \".\\\\Data\\\\mnist_test_100.txt\"\n",
    "  test_ds = MNIST_Dataset(test_file)\n",
    "  net.eval()\n",
    "  acc_test = accuracy(net, test_ds)  # all at once\n",
    "  print(\"Accuracy on test data = %0.4f\" % acc_test)\n",
    "```"
   ]
  },
  {
   "cell_type": "markdown",
   "id": "24bf8d4a-b1c7-4c2b-8764-d5f59fcac0fa",
   "metadata": {},
   "source": [
    "The program-defined accuracy() function accepts a Dataset object so the training accuracy can be computed using the existing training Dataset, but the test accuracy needs a new Dataset created from the test data.\n",
    "\n",
    "The demo uses the trained model to make a prediction for a fake image. First, a fake 28 x 28 image is created:"
   ]
  },
  {
   "cell_type": "markdown",
   "id": "9e60b6c3-33f8-490a-8730-7f88f85a063d",
   "metadata": {},
   "source": [
    "```\n",
    " print(\"Making prediction for fake image: \")\n",
    "  x = np.zeros(shape=(28,28), dtype=np.float32)\n",
    "  for row in range(5,23):\n",
    "    x[row][9] = 180  # vertical line\n",
    "  for rc in range(9,19):\n",
    "    x[rc][rc] = 250  # diagonal\n",
    "  for col in range(5,15):  \n",
    "    x[14][col] = 200  # horizontal\n",
    "```"
   ]
  },
  {
   "cell_type": "markdown",
   "id": "a99ccc80-15ae-41e6-b5c4-d162da514d0a",
   "metadata": {},
   "source": [
    "Recall that each pixel value is an integer between 0 and 255. In most cases 0 represents white, and larger values are darker shades of gray up to 255, which is black. The Dataset object normalizes input by dividing by 255 so the fake image is normalized too. The fake image is displayed using the imshow() method of the matplotlib library:"
   ]
  },
  {
   "cell_type": "markdown",
   "id": "eaa41bad-9231-4924-a193-9d2b774c5fdc",
   "metadata": {},
   "source": [
    "```\n",
    " x /= 255.0\n",
    "  plt.tight_layout()\n",
    "  plt.imshow(x, cmap=plt.get_cmap('gray_r'))\n",
    "  plt.show()\n",
    "```"
   ]
  },
  {
   "cell_type": "markdown",
   "id": "07cff5e4-d699-41a7-98fe-07f6c8dd36cd",
   "metadata": {},
   "source": [
    "By default, imshow() normalizes its input using the min and max values. Therefore, the fake image could have been displayed before normalization division by 255. The gray_r argument means gray-reversed colormap.\n",
    "\n",
    "The label/digit for the fake image is predicted using these statements:"
   ]
  },
  {
   "cell_type": "markdown",
   "id": "be1ef7b1-9d1d-499f-90a5-94521238b71e",
   "metadata": {},
   "source": [
    "```\n",
    " digits = ['zero', 'one', 'two', 'three', 'four', 'five', \n",
    "    'six', 'seven', 'eight', 'nine' ]\n",
    "  x = x.reshape(1, 1, 28, 28)  # 1 image, 1 channel\n",
    "  x = T.tensor(x, dtype=T.float32).to(device)\n",
    "  with T.no_grad():\n",
    "    oupt = net(x)  # 10 logits like [[-0.12, 1.03, . . ]]\n",
    "  am = T.argmax(oupt) # 0 to 9\n",
    "  print(\"Predicted class is \\'\" + digits[am] + \"\\'\")\n",
    "```"
   ]
  },
  {
   "cell_type": "markdown",
   "id": "24e33bc6-3617-47e5-b185-bc7385f23641",
   "metadata": {},
   "source": [
    "The fake image is reshaped from 28 x 28 to [1, 1, 28, 28] because that's the shape expected by the CNN network. The first 1 is the batch size, the second 1 is the number of channels, which is set to 1 because MNIST images are grayscale. You'd use channel = 3 for color images. The output is a set of 10 logits where the largest value is the predicted class. Logit values do not sum to 1 so you might want to apply the softmax() function to convert the logits to pseudo-probabilities.\n",
    "\n",
    "The demo program concludes by saving the trained model weights and bias values:"
   ]
  },
  {
   "cell_type": "markdown",
   "id": "91b53abb-3e10-4219-adee-4be10ea4cb4a",
   "metadata": {},
   "source": [
    "```\n",
    "  . . .\n",
    "  print(\"Saving trained model state\")\n",
    "  fn = \".\\\\Models\\\\mnist_model.pt\"\n",
    "  T.save(net.state_dict(), fn)  \n",
    "  print(\"End MNIST CNN demo \")\n",
    "if __name__ == \"__main__\":\n",
    "  main()\n",
    "```"
   ]
  },
  {
   "cell_type": "markdown",
   "id": "14d763a0-c133-48b1-9b35-3ddfe0316ee0",
   "metadata": {},
   "source": [
    "The state_dict() method saves model weights and biases, but does not save the model definition. Therefore, to load the saved model from another program, you must place the code that defines the network in that other program."
   ]
  },
  {
   "cell_type": "markdown",
   "id": "af1e7c66-26c9-4482-8cbc-9f0e05deb1ff",
   "metadata": {},
   "source": [
    "## The Convolutional Neural Network\n",
    "\n",
    "The definition of the CNN network used in the demo begins by specifying two convolutional layers and three linear layers:"
   ]
  },
  {
   "cell_type": "markdown",
   "id": "dcd9b243-1334-4469-8ec8-ea8feb158cc6",
   "metadata": {},
   "source": [
    "```\n",
    "class Net(T.nn.Module):\n",
    "  def __init__(self):\n",
    "    super(Net, self).__init__()  # pre Python 3.3 syntax\n",
    "    self.conv1 = T.nn.Conv2d(1, 32, 5)  # chnl-in, out, krnl\n",
    "    self.conv2 = T.nn.Conv2d(32, 64, 5)\n",
    "    self.fc1 = T.nn.Linear(1024, 512)   # [64*4*4, x]\n",
    "    self.fc2 = T.nn.Linear(512, 256)\n",
    "    self.fc3 = T.nn.Linear(256, 10)     # 10 classes\n",
    "```"
   ]
  },
  {
   "cell_type": "markdown",
   "id": "1c3aae1f-5812-4828-b790-7df83565d1a1",
   "metadata": {},
   "source": [
    "The demo network also defines two pooling layers and two dropout layers:\n",
    "\n"
   ]
  },
  {
   "cell_type": "markdown",
   "id": "de79a1b7-bc9d-4bbe-870e-cf8387603dff",
   "metadata": {},
   "source": [
    "```\n",
    "    self.pool1 = T.nn.MaxPool2d(2, stride=2)   # kernel, stride\n",
    "    self.pool2 = T.nn.MaxPool2d(2, stride=2)\n",
    "    self.drop1 = T.nn.Dropout(0.25)\n",
    "    self.drop2 = T.nn.Dropout(0.50)\n",
    "```"
   ]
  },
  {
   "cell_type": "markdown",
   "id": "fc0fbe2a-f210-4a5b-adcc-9a982fd586d5",
   "metadata": {},
   "source": [
    "In principle it's possible to create a neural network classifier for MNIST data using just a single linear layer that accepts 784 input values and emits 10 logits or pseudo-probabilities. But this approach doesn't work too well. You can think of the demo network as a series of transformations, from 784 input pixel values down to 10 logit values.\n",
    "\n",
    "A linear layer is defined by the number of input values and the number of output values. A convolutional layer is defined by number of input and output values but also a kernel value. Loosely speaking, the kernel value controls how many pixels to look at as a group. The demo convolutional layers use a kernel size of 5 so the image to classify is analyzed by looking at 5 x 5 blocks of pixels. This corresponds to how humans look at an image -- scanning areas of an image instead of looking at the entire image all at once.\n",
    "\n",
    "The demo uses two 2 x 2 max-pooling layers. Pooling is optional. Because an image can have millions of pixel values, a neural network classifier can have hundreds of millions of weights and biases. A 2 x 2 max-pooling layer takes 2 x 2 pixel blocks and replaces those four pixels by the largest pixel value. This reduces the number of weights and biases that must be trained. The stride value controls how the 2 x 2 blocks move across the image. Because MNIST images are so small, a small stride value of 2 is used in the demo.\n",
    "\n",
    "The demo uses two dropout layers. Neural network image classifiers tend to be prone to overfitting. Overfitting results in a trained model that predicts very well for the training images but predicts poorly for new, previously unseen images. Dropout layers help to moderate overfitting.\n",
    "\n",
    "The CNN forward() method has two phases. First, convolution, augmented by pooling and dropout is applied, and then linear transformation, augmented by dropout, is applied. The convolution phase is:"
   ]
  },
  {
   "cell_type": "markdown",
   "id": "bd28a0d3-95e5-4c34-b792-57e6abb1645f",
   "metadata": {},
   "source": [
    "```\n",
    " def forward(self, x):\n",
    "    # convolution phase         # x is [bs, 1, 28, 28]\n",
    "    z = T.relu(self.conv1(x))   # Size([bs, 32, 24, 24])\n",
    "    z = self.pool1(z)           # Size([bs, 32, 12, 12])\n",
    "    z = self.drop1(z)\n",
    "    z = T.relu(self.conv2(z))   # Size([bs, 64, 8, 8])\n",
    "    z = self.pool2(z)           # Size([bs, 64, 4, 4])\n",
    ". . .\n",
    "```"
   ]
  },
  {
   "cell_type": "markdown",
   "id": "00b195d0-2ac0-47ef-b1dc-13e77bd4e509",
   "metadata": {},
   "source": [
    "The input x image is assumed to have shape [batch_size, 1, 28, 28]. The 1 is the number of image channels, which is 1 because MNIST images are grayscale. The first convolution transformation results in a tensor with shape [bs, 32, 24, 24] -- much larger than the original. Pooling reduces the size to [bs, 32, 12, 12]. The second convolution and pooling results in a tensor with shape [bs, 64, 4, 4].\n",
    "\n",
    "The number of convolution layers, their transformation shapes, the pooling size and whether to use dropout or not are all design decisions that can require a lot of experimentation.\n",
    "\n",
    "After the convolution phase, the linear phase of the forward() method is:"
   ]
  },
  {
   "cell_type": "markdown",
   "id": "be53876c-1e88-4150-b15d-780eca1a8e47",
   "metadata": {},
   "source": [
    "```\n",
    "    z = z.reshape(-1, 1024)     # Size([bs, 1024])\n",
    "    z = T.relu(self.fc1(z))     # Size([bs, 512])\n",
    "    z = self.drop2(z)\n",
    "    z = T.relu(self.fc2(z))     # Size([bs, 256])\n",
    "    z = self.fc3(z)             # Size([bs, 10])\n",
    "    return z\n",
    "```"
   ]
  },
  {
   "cell_type": "markdown",
   "id": "bc9ff1e4-a27b-4307-8795-2082f99512e3",
   "metadata": {},
   "source": [
    "The current 4-dimensional tensor has shape [bs, 64, 4, 4] which is reshaped to a 2-dimensional tensor with shape [bs, 1024]. The demo uses the special -1 syntax which means \"however much is left\". This allows different batch sizes.\n",
    "\n",
    "In practice, the most difficult part of implementing a convolutional neural network is determining the channel input and output sizes of the convolutional layers when they're defined in the __init__() method. It's possible to manually calculate these sizes, but it's much easier to determine these sizes empirically by adding statements such as print(z.shape) during development."
   ]
  },
  {
   "cell_type": "markdown",
   "id": "f062320c-307f-46c2-b0ba-31fa24f7ed27",
   "metadata": {},
   "source": [
    "## Wrapping Up\n",
    "\n",
    "From a developer's point of view, there are two different ways to tackle an image recognition problem. One approach is to implement a custom system using the techniques presented in this article. A different approach is to use pre-built generic models such as those available from Azure Cognitive Services.\n",
    "\n",
    "Imagine that you work for a company that makes passenger elevators for business buildings. Your service technicians out in the field must deal with dozens of different types of elevators, some of them decades old, with thousands of different parts. You could train a neural model to recognize your elevator parts and then identify them when service technicians upload a photo they took from their phone camera.\n",
    "\n"
   ]
  },
  {
   "cell_type": "code",
   "execution_count": null,
   "id": "c206b5b0-b0bc-4ad5-b41a-2c4636c87360",
   "metadata": {},
   "outputs": [],
   "source": []
  }
 ],
 "metadata": {
  "kernelspec": {
   "display_name": "Python 3 (ipykernel)",
   "language": "python",
   "name": "python3"
  },
  "language_info": {
   "codemirror_mode": {
    "name": "ipython",
    "version": 3
   },
   "file_extension": ".py",
   "mimetype": "text/x-python",
   "name": "python",
   "nbconvert_exporter": "python",
   "pygments_lexer": "ipython3",
   "version": "3.10.4"
  }
 },
 "nbformat": 4,
 "nbformat_minor": 5
}
